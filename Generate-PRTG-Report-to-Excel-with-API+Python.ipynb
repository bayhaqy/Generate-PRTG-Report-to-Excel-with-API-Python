{
 "cells": [
  {
   "cell_type": "code",
   "execution_count": 1,
   "metadata": {},
   "outputs": [
    {
     "name": "stdout",
     "output_type": "stream",
     "text": [
      "Requirement already satisfied: requests in c:\\programdata\\anaconda3\\lib\\site-packages (2.22.0)\n",
      "Requirement already satisfied: idna<2.9,>=2.5 in c:\\programdata\\anaconda3\\lib\\site-packages (from requests) (2.8)\n",
      "Requirement already satisfied: chardet<3.1.0,>=3.0.2 in c:\\programdata\\anaconda3\\lib\\site-packages (from requests) (3.0.4)\n",
      "Requirement already satisfied: certifi>=2017.4.17 in c:\\programdata\\anaconda3\\lib\\site-packages (from requests) (2020.12.5)\n",
      "Requirement already satisfied: urllib3!=1.25.0,!=1.25.1,<1.26,>=1.21.1 in c:\\programdata\\anaconda3\\lib\\site-packages (from requests) (1.24.2)\n",
      "Requirement already satisfied: pandas in c:\\programdata\\anaconda3\\lib\\site-packages (1.0.1)\n",
      "Requirement already satisfied: numpy>=1.13.3 in c:\\programdata\\anaconda3\\lib\\site-packages (from pandas) (1.18.1)\n",
      "Requirement already satisfied: python-dateutil>=2.6.1 in c:\\programdata\\anaconda3\\lib\\site-packages (from pandas) (2.8.0)\n",
      "Requirement already satisfied: pytz>=2017.2 in c:\\programdata\\anaconda3\\lib\\site-packages (from pandas) (2019.3)\n",
      "Requirement already satisfied: six>=1.5 in c:\\programdata\\anaconda3\\lib\\site-packages (from python-dateutil>=2.6.1->pandas) (1.14.0)\n"
     ]
    },
    {
     "name": "stderr",
     "output_type": "stream",
     "text": [
      "ERROR: Could not find a version that satisfies the requirement io (from versions: none)\n",
      "ERROR: No matching distribution found for io\n",
      "ERROR: Could not find a version that satisfies the requirement collections (from versions: none)\n",
      "ERROR: No matching distribution found for collections\n",
      "ERROR: Could not find a version that satisfies the requirement re (from versions: none)\n",
      "ERROR: No matching distribution found for re\n"
     ]
    }
   ],
   "source": [
    "#Install requirement package\n",
    "\n",
    "!pip install requests\n",
    "!pip install pandas\n",
    "!pip install io\n",
    "!pip install collections\n",
    "!pip install re"
   ]
  },
  {
   "cell_type": "code",
   "execution_count": 3,
   "metadata": {},
   "outputs": [],
   "source": [
    "#Import package\n",
    "\n",
    "import requests\n",
    "import pandas as pd\n",
    "import csv\n",
    "import io\n",
    "from collections import defaultdict\n",
    "import re"
   ]
  },
  {
   "cell_type": "code",
   "execution_count": 42,
   "metadata": {},
   "outputs": [],
   "source": [
    "#Set variable\n",
    "\n",
    "#Destination server\n",
    "serverurl=\"https://192.168.1.1\"\n",
    "outputcsv=\"/api/table.csv?output=csvtable&count=50000\"\n",
    "checkdevice=\"&content=devices&columns=objid,host,type,device,group,location,active,probe,grpdev,notifiesx,intervalx,accessrights,dependency,probegroupdevice,status,message,priority,upsens,downsens,totalsens,downacksens,partialdownsenswarnsens,pausedsens,unusualsens,undefinedsens,totalsens\"\n",
    "checksensor=\"&content=sensors&columns=parentid,group,device,sensor,status,message,lastvalue,priority\"\n",
    "linktodevice=\"/device.htm?id=\"\n",
    "\n",
    "#Credential (Make sure you have the login access to PRTG Server)\n",
    "username=\"\"\n",
    "passhash=\"\"\n",
    "\n",
    "#Destination export and column label\n",
    "exportname=\"PRTG-Device-Status-Report\"\n",
    "columnlabel=['Group Name', 'Device Name', 'Sensor', 'Status', 'Message', 'Last Value', 'Priority', 'IPv4 Address', 'Location','Link to Device']"
   ]
  },
  {
   "cell_type": "code",
   "execution_count": 5,
   "metadata": {},
   "outputs": [
    {
     "name": "stderr",
     "output_type": "stream",
     "text": [
      "C:\\ProgramData\\Anaconda3\\lib\\site-packages\\urllib3\\connectionpool.py:847: InsecureRequestWarning: Unverified HTTPS request is being made. Adding certificate verification is strongly advised. See: https://urllib3.readthedocs.io/en/latest/advanced-usage.html#ssl-warnings\n",
      "  InsecureRequestWarning)\n"
     ]
    }
   ],
   "source": [
    "#Set link getdevice for destiation server\n",
    "getdevice=serverurl+outputcsv+checkdevice+'&username='+username+'&passhash='+passhash\n",
    "\n",
    "#Download data devices\n",
    "rdevice = requests.get(getdevice,verify = False)"
   ]
  },
  {
   "cell_type": "code",
   "execution_count": 43,
   "metadata": {},
   "outputs": [],
   "source": [
    "#Write csv to memory with StringIO\n",
    "devices_csv_strio = io.StringIO(rdevice.text)\n",
    "\n",
    "#Read the csv data devices\n",
    "devices_csv_reader = csv.reader(devices_csv_strio, delimiter=',')"
   ]
  },
  {
   "cell_type": "code",
   "execution_count": 44,
   "metadata": {},
   "outputs": [],
   "source": [
    "#Create dictionary for add to data sensor. ParentID as key, IP Address and Location as value \n",
    "devices_ip_dict = defaultdict(str)\n",
    "for device in devices_csv_reader:\n",
    "    devices_ip_dict[device[0]] = device[2],device[11]"
   ]
  },
  {
   "cell_type": "code",
   "execution_count": 22,
   "metadata": {
    "scrolled": true
   },
   "outputs": [
    {
     "name": "stderr",
     "output_type": "stream",
     "text": [
      "C:\\ProgramData\\Anaconda3\\lib\\site-packages\\urllib3\\connectionpool.py:847: InsecureRequestWarning: Unverified HTTPS request is being made. Adding certificate verification is strongly advised. See: https://urllib3.readthedocs.io/en/latest/advanced-usage.html#ssl-warnings\n",
      "  InsecureRequestWarning)\n"
     ]
    }
   ],
   "source": [
    "#Set link getsensor for destiation server\n",
    "getsensor=serverurl+outputcsv+checksensor+'&username='+username+'&passhash='+passhash\n",
    "\n",
    "#Download data sensors\n",
    "rsensor = requests.get(getsensor,verify = False)"
   ]
  },
  {
   "cell_type": "code",
   "execution_count": 45,
   "metadata": {},
   "outputs": [],
   "source": [
    "#Write csv to memory with StringIO\n",
    "sens_strio = io.StringIO(rsensor.text)\n",
    "\n",
    "#Open the csv data sensor to dataframe\n",
    "sens_df = pd.read_csv(sens_strio)\n",
    "\n",
    "#Drop unused duplicate table\n",
    "sens_df_cln=sens_df.drop(['Parent ID(RAW)', 'Group(RAW)', 'Device(RAW)', 'Sensor(RAW)', 'Status(RAW)', 'Message', 'Last Value(RAW)', 'Priority(RAW)'], axis = 1)\n",
    "\n",
    "#Export dataframe to csv\n",
    "sens_csv = sens_df_cln.to_csv(sep=',', index=False, encoding='utf-8')\n",
    "\n",
    "#Write csv to memory with StringIO\n",
    "sens_strio = io.StringIO(sens_csv)\n",
    "\n",
    "#Read the csv data sensors\n",
    "sens_dict = csv.DictReader(sens_strio)"
   ]
  },
  {
   "cell_type": "code",
   "execution_count": 46,
   "metadata": {},
   "outputs": [],
   "source": [
    "#Create empty list\n",
    "output_list = list()\n",
    "\n",
    "for sens in sens_dict:\n",
    "    #Create empty list\n",
    "    device_info = list()\n",
    "\n",
    "    #Add the devices information to the device info list.\n",
    "    #device_info.append(sens['Parent ID'])\n",
    "    device_info.append(sens['Group'])\n",
    "    device_info.append(sens['Device'])\n",
    "    device_info.append(sens['Sensor'])\n",
    "    device_info.append(sens['Status'])\n",
    "    device_info.append(sens['Message(RAW)'])\n",
    "    device_info.append(sens['Last Value'])\n",
    "    device_info.append(sens['Priority'])\n",
    "    device_info.append(devices_ip_dict[sens['Parent ID']][0])\n",
    "    device_info.append(devices_ip_dict[sens['Parent ID']][1])\n",
    "    device_info.append(serverurl+linktodevice+sens['Parent ID'])\n",
    "    \n",
    "    #Add the device info list to the output list.\n",
    "    output_list.append(device_info)\n",
    "\n",
    "#Create dataframe from output list\n",
    "output_df = pd.DataFrame(output_list, columns=columnlabel)\n",
    "\n",
    "#Export data to Excel\n",
    "output_df.to_excel(exportname + '.xlsx', index=None, header=True)"
   ]
  },
  {
   "cell_type": "code",
   "execution_count": 70,
   "metadata": {},
   "outputs": [
    {
     "name": "stdout",
     "output_type": "stream",
     "text": [
      "<class 'pandas.core.frame.DataFrame'>\n",
      "RangeIndex: 9935 entries, 0 to 9934\n",
      "Data columns (total 10 columns):\n",
      " #   Column          Non-Null Count  Dtype \n",
      "---  ------          --------------  ----- \n",
      " 0   Group Name      9935 non-null   object\n",
      " 1   Device Name     9935 non-null   object\n",
      " 2   Sensor          9935 non-null   object\n",
      " 3   Status          9935 non-null   object\n",
      " 4   Message         9935 non-null   object\n",
      " 5   Last Value      9935 non-null   object\n",
      " 6   Priority        9935 non-null   object\n",
      " 7   IPv4 Address    9935 non-null   object\n",
      " 8   Location        9935 non-null   object\n",
      " 9   Link to Device  9935 non-null   object\n",
      "dtypes: object(10)\n",
      "memory usage: 776.3+ KB\n"
     ]
    },
    {
     "data": {
      "text/plain": [
       "None"
      ]
     },
     "metadata": {},
     "output_type": "display_data"
    }
   ],
   "source": [
    "#Check result\n",
    "#display(output_df.head())\n",
    "display(output_df.info())"
   ]
  },
  {
   "cell_type": "code",
   "execution_count": null,
   "metadata": {},
   "outputs": [],
   "source": []
  }
 ],
 "metadata": {
  "kernelspec": {
   "display_name": "Python 3",
   "language": "python",
   "name": "python3"
  },
  "language_info": {
   "codemirror_mode": {
    "name": "ipython",
    "version": 3
   },
   "file_extension": ".py",
   "mimetype": "text/x-python",
   "name": "python",
   "nbconvert_exporter": "python",
   "pygments_lexer": "ipython3",
   "version": "3.7.4"
  }
 },
 "nbformat": 4,
 "nbformat_minor": 4
}
